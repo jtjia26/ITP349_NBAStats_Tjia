{
  "nbformat": 4,
  "nbformat_minor": 0,
  "metadata": {
    "colab": {
      "provenance": []
    },
    "kernelspec": {
      "name": "python3",
      "display_name": "Python 3"
    },
    "language_info": {
      "name": "python"
    }
  },
  "cells": [
    {
      "cell_type": "code",
      "execution_count": 1,
      "metadata": {
        "id": "Fl-ut3Rw_L_X"
      },
      "outputs": [],
      "source": [
        "import pandas as pd\n",
        "import numpy as np\n",
        "import matplotlib.pyplot as plt\n",
        "pd.set_option('display.max_rows', 100)\n"
      ]
    },
    {
      "cell_type": "code",
      "source": [
        "# use !wget -nc 'github path' to pull the nba stats data\n",
        "#player logs\n",
        "!wget \"https://raw.githubusercontent.com/jtjia26/ITP349_NBAStats_Tjia/refs/heads/main/nba_game_log_2021_22.csv\"\n",
        "nba_player_log = pd.read_csv('nba_game_log_2021_22.csv')\n",
        "# player salaries\n",
        "!wget \"https://raw.githubusercontent.com/jtjia26/ITP349_NBAStats_Tjia/refs/heads/main/nba_salary_2021_22.csv\"\n",
        "player_salaries = pd.read_csv('nba_salary_2021_22.csv')\n"
      ],
      "metadata": {
        "colab": {
          "base_uri": "https://localhost:8080/"
        },
        "id": "51FtPSkjAmVW",
        "outputId": "576e069c-ae0d-4e60-853a-a335e2444b0e"
      },
      "execution_count": 2,
      "outputs": [
        {
          "output_type": "stream",
          "name": "stdout",
          "text": [
            "--2025-03-10 20:17:41--  https://raw.githubusercontent.com/jtjia26/ITP349_NBAStats_Tjia/refs/heads/main/nba_game_log_2021_22.csv\n",
            "Resolving raw.githubusercontent.com (raw.githubusercontent.com)... 185.199.108.133, 185.199.109.133, 185.199.110.133, ...\n",
            "Connecting to raw.githubusercontent.com (raw.githubusercontent.com)|185.199.108.133|:443... connected.\n",
            "HTTP request sent, awaiting response... 200 OK\n",
            "Length: 13427331 (13M) [text/plain]\n",
            "Saving to: ‘nba_game_log_2021_22.csv’\n",
            "\n",
            "nba_game_log_2021_2 100%[===================>]  12.80M  47.0MB/s    in 0.3s    \n",
            "\n",
            "2025-03-10 20:17:42 (47.0 MB/s) - ‘nba_game_log_2021_22.csv’ saved [13427331/13427331]\n",
            "\n",
            "--2025-03-10 20:17:44--  https://raw.githubusercontent.com/jtjia26/ITP349_NBAStats_Tjia/refs/heads/main/nba_salary_2021_22.csv\n",
            "Resolving raw.githubusercontent.com (raw.githubusercontent.com)... 185.199.108.133, 185.199.109.133, 185.199.110.133, ...\n",
            "Connecting to raw.githubusercontent.com (raw.githubusercontent.com)|185.199.108.133|:443... connected.\n",
            "HTTP request sent, awaiting response... 200 OK\n",
            "Length: 26521 (26K) [text/plain]\n",
            "Saving to: ‘nba_salary_2021_22.csv’\n",
            "\n",
            "nba_salary_2021_22. 100%[===================>]  25.90K  --.-KB/s    in 0.002s  \n",
            "\n",
            "2025-03-10 20:17:45 (10.1 MB/s) - ‘nba_salary_2021_22.csv’ saved [26521/26521]\n",
            "\n"
          ]
        }
      ]
    },
    {
      "cell_type": "code",
      "source": [
        "# view columns and null counts for each column in the data frames\n",
        "print(nba_player_log.columns)\n",
        "print(nba_player_log.info())\n",
        "print(player_salaries.columns)\n",
        "print(player_salaries.info())"
      ],
      "metadata": {
        "colab": {
          "base_uri": "https://localhost:8080/"
        },
        "id": "8Qdn2euNB29-",
        "outputId": "06753b96-caa0-410e-db1a-8b10a2b5581e"
      },
      "execution_count": 3,
      "outputs": [
        {
          "output_type": "stream",
          "name": "stdout",
          "text": [
            "Index(['game_id', 'game_date', 'OT', 'H_A', 'Team_Abbrev', 'Team_Score',\n",
            "       'Team_pace', 'Team_efg_pct', 'Team_tov_pct', 'Team_orb_pct',\n",
            "       'Team_ft_rate', 'Team_off_rtg', 'Inactives', 'Opponent_Abbrev',\n",
            "       'Opponent_Score', 'Opponent_pace', 'Opponent_efg_pct',\n",
            "       'Opponent_tov_pct', 'Opponent_orb_pct', 'Opponent_ft_rate',\n",
            "       'Opponent_off_rtg', 'player', 'player_id', 'starter', 'mp', 'fg', 'fga',\n",
            "       'fg_pct', 'fg3', 'fg3a', 'fg3_pct', 'ft', 'fta', 'ft_pct', 'orb', 'drb',\n",
            "       'trb', 'ast', 'stl', 'blk', 'tov', 'pf', 'pts', 'plus_minus',\n",
            "       'did_not_play', 'is_inactive', 'ts_pct', 'efg_pct', 'fg3a_per_fga_pct',\n",
            "       'fta_per_fga_pct', 'orb_pct', 'drb_pct', 'trb_pct', 'ast_pct',\n",
            "       'stl_pct', 'blk_pct', 'tov_pct', 'usg_pct', 'off_rtg', 'def_rtg', 'bpm',\n",
            "       'season', 'minutes', 'double_double', 'triple_double', 'DKP', 'FDP',\n",
            "       'SDP', 'DKP_per_minute', 'FDP_per_minute', 'SDP_per_minute',\n",
            "       'pf_per_minute', 'ts', 'last_60_minutes_per_game_starting',\n",
            "       'last_60_minutes_per_game_bench', 'PG%', 'SG%', 'SF%', 'PF%', 'C%',\n",
            "       'active_position_minutes'],\n",
            "      dtype='object')\n",
            "<class 'pandas.core.frame.DataFrame'>\n",
            "RangeIndex: 31608 entries, 0 to 31607\n",
            "Data columns (total 81 columns):\n",
            " #   Column                             Non-Null Count  Dtype  \n",
            "---  ------                             --------------  -----  \n",
            " 0   game_id                            31608 non-null  object \n",
            " 1   game_date                          31608 non-null  object \n",
            " 2   OT                                 31608 non-null  int64  \n",
            " 3   H_A                                31608 non-null  object \n",
            " 4   Team_Abbrev                        31608 non-null  object \n",
            " 5   Team_Score                         31608 non-null  int64  \n",
            " 6   Team_pace                          31608 non-null  float64\n",
            " 7   Team_efg_pct                       31608 non-null  float64\n",
            " 8   Team_tov_pct                       31608 non-null  float64\n",
            " 9   Team_orb_pct                       31608 non-null  float64\n",
            " 10  Team_ft_rate                       31608 non-null  float64\n",
            " 11  Team_off_rtg                       31608 non-null  float64\n",
            " 12  Inactives                          31561 non-null  object \n",
            " 13  Opponent_Abbrev                    31608 non-null  object \n",
            " 14  Opponent_Score                     31608 non-null  int64  \n",
            " 15  Opponent_pace                      31608 non-null  float64\n",
            " 16  Opponent_efg_pct                   31608 non-null  float64\n",
            " 17  Opponent_tov_pct                   31608 non-null  float64\n",
            " 18  Opponent_orb_pct                   31608 non-null  float64\n",
            " 19  Opponent_ft_rate                   31608 non-null  float64\n",
            " 20  Opponent_off_rtg                   31608 non-null  float64\n",
            " 21  player                             31608 non-null  object \n",
            " 22  player_id                          31608 non-null  object \n",
            " 23  starter                            31608 non-null  int64  \n",
            " 24  mp                                 31608 non-null  object \n",
            " 25  fg                                 31608 non-null  int64  \n",
            " 26  fga                                31608 non-null  int64  \n",
            " 27  fg_pct                             31608 non-null  float64\n",
            " 28  fg3                                31608 non-null  int64  \n",
            " 29  fg3a                               31608 non-null  int64  \n",
            " 30  fg3_pct                            31608 non-null  float64\n",
            " 31  ft                                 31608 non-null  int64  \n",
            " 32  fta                                31608 non-null  int64  \n",
            " 33  ft_pct                             31608 non-null  float64\n",
            " 34  orb                                31608 non-null  int64  \n",
            " 35  drb                                31608 non-null  int64  \n",
            " 36  trb                                31608 non-null  int64  \n",
            " 37  ast                                31608 non-null  int64  \n",
            " 38  stl                                31608 non-null  int64  \n",
            " 39  blk                                31608 non-null  int64  \n",
            " 40  tov                                31608 non-null  int64  \n",
            " 41  pf                                 31608 non-null  int64  \n",
            " 42  pts                                31608 non-null  int64  \n",
            " 43  plus_minus                         31608 non-null  int64  \n",
            " 44  did_not_play                       31608 non-null  int64  \n",
            " 45  is_inactive                        31608 non-null  int64  \n",
            " 46  ts_pct                             31608 non-null  float64\n",
            " 47  efg_pct                            31608 non-null  float64\n",
            " 48  fg3a_per_fga_pct                   31608 non-null  float64\n",
            " 49  fta_per_fga_pct                    31608 non-null  float64\n",
            " 50  orb_pct                            31608 non-null  float64\n",
            " 51  drb_pct                            31608 non-null  float64\n",
            " 52  trb_pct                            31608 non-null  float64\n",
            " 53  ast_pct                            31608 non-null  float64\n",
            " 54  stl_pct                            31608 non-null  float64\n",
            " 55  blk_pct                            31608 non-null  float64\n",
            " 56  tov_pct                            31608 non-null  float64\n",
            " 57  usg_pct                            31608 non-null  float64\n",
            " 58  off_rtg                            31608 non-null  int64  \n",
            " 59  def_rtg                            31608 non-null  int64  \n",
            " 60  bpm                                31608 non-null  float64\n",
            " 61  season                             31608 non-null  int64  \n",
            " 62  minutes                            31608 non-null  float64\n",
            " 63  double_double                      31608 non-null  int64  \n",
            " 64  triple_double                      31608 non-null  int64  \n",
            " 65  DKP                                31608 non-null  float64\n",
            " 66  FDP                                31608 non-null  float64\n",
            " 67  SDP                                31608 non-null  float64\n",
            " 68  DKP_per_minute                     26311 non-null  float64\n",
            " 69  FDP_per_minute                     26311 non-null  float64\n",
            " 70  SDP_per_minute                     26311 non-null  float64\n",
            " 71  pf_per_minute                      26311 non-null  float64\n",
            " 72  ts                                 31608 non-null  float64\n",
            " 73  last_60_minutes_per_game_starting  30938 non-null  float64\n",
            " 74  last_60_minutes_per_game_bench     30938 non-null  float64\n",
            " 75  PG%                                31532 non-null  float64\n",
            " 76  SG%                                31532 non-null  float64\n",
            " 77  SF%                                31532 non-null  float64\n",
            " 78  PF%                                31532 non-null  float64\n",
            " 79  C%                                 31532 non-null  float64\n",
            " 80  active_position_minutes            26867 non-null  float64\n",
            "dtypes: float64(45), int64(27), object(9)\n",
            "memory usage: 19.5+ MB\n",
            "None\n",
            "Index(['Player', '2021/22', '2022/23', '2023/24', '2024/25', '2025/26',\n",
            "       '2026/27'],\n",
            "      dtype='object')\n",
            "<class 'pandas.core.frame.DataFrame'>\n",
            "RangeIndex: 649 entries, 0 to 648\n",
            "Data columns (total 7 columns):\n",
            " #   Column   Non-Null Count  Dtype \n",
            "---  ------   --------------  ----- \n",
            " 0   Player   649 non-null    object\n",
            " 1   2021/22  649 non-null    int64 \n",
            " 2   2022/23  649 non-null    int64 \n",
            " 3   2023/24  649 non-null    int64 \n",
            " 4   2024/25  649 non-null    int64 \n",
            " 5   2025/26  649 non-null    int64 \n",
            " 6   2026/27  649 non-null    int64 \n",
            "dtypes: int64(6), object(1)\n",
            "memory usage: 35.6+ KB\n",
            "None\n"
          ]
        }
      ]
    },
    {
      "cell_type": "code",
      "source": [
        "# shape of the data frames\n",
        "\n",
        "\n",
        "# player game log:\n",
        "print(\"NBA player log shape:\")\n",
        "print(nba_player_log.shape)\n",
        "# player salaries\n",
        "print(\"NBA salaries log shape:\")\n",
        "print(player_salaries.shape)\n"
      ],
      "metadata": {
        "colab": {
          "base_uri": "https://localhost:8080/"
        },
        "id": "8QlgFqs2CGKn",
        "outputId": "72563e1b-b81c-4a06-92fd-45ccaea74616"
      },
      "execution_count": 4,
      "outputs": [
        {
          "output_type": "stream",
          "name": "stdout",
          "text": [
            "NBA player log shape:\n",
            "(31608, 81)\n",
            "NBA salaries log shape:\n",
            "(649, 7)\n"
          ]
        }
      ]
    },
    {
      "cell_type": "code",
      "source": [
        "# show first five rows of each data frame\n",
        "# nba player log\n",
        "print(nba_player_log.head())\n",
        "print(\"\\n\")\n",
        "# player salaries\n",
        "print(player_salaries.head())\n"
      ],
      "metadata": {
        "colab": {
          "base_uri": "https://localhost:8080/"
        },
        "id": "YAY4_juNCZHt",
        "outputId": "b3712f1e-509c-428b-be64-36169ee76f58"
      },
      "execution_count": 5,
      "outputs": [
        {
          "output_type": "stream",
          "name": "stdout",
          "text": [
            "        game_id  game_date  OT H_A Team_Abbrev  Team_Score  Team_pace  \\\n",
            "0  202204100BRK  4/10/2022   0   A         IND         126      103.9   \n",
            "1  202204100BRK  4/10/2022   0   A         IND         126      103.9   \n",
            "2  202204100BRK  4/10/2022   0   A         IND         126      103.9   \n",
            "3  202204100BRK  4/10/2022   0   A         IND         126      103.9   \n",
            "4  202204100BRK  4/10/2022   0   A         IND         126      103.9   \n",
            "\n",
            "   Team_efg_pct  Team_tov_pct  Team_orb_pct  ...  pf_per_minute     ts  \\\n",
            "0         0.543           5.9          20.8  ...       0.000000  14.44   \n",
            "1         0.543           5.9          20.8  ...       0.083604  23.00   \n",
            "2         0.543           5.9          20.8  ...       0.139730  21.76   \n",
            "3         0.543           5.9          20.8  ...       0.156169   4.88   \n",
            "4         0.543           5.9          20.8  ...       0.097192  15.88   \n",
            "\n",
            "  last_60_minutes_per_game_starting last_60_minutes_per_game_bench    PG%  \\\n",
            "0                         36.176282                      19.535428   62.0   \n",
            "1                         35.833974                      19.350580    4.0   \n",
            "2                         30.988194                      16.733827    0.0   \n",
            "3                         22.514103                      14.625000    0.0   \n",
            "4                         25.350000                      15.166667  100.0   \n",
            "\n",
            "    SG%   SF%   PF%    C%  active_position_minutes  \n",
            "0  35.0   4.0   0.0   0.0                64.741860  \n",
            "1  53.0  43.0   1.0   0.0                56.265965  \n",
            "2   0.0  20.0  75.0   5.0                44.631041  \n",
            "3   0.0   0.0  24.0  76.0                53.345389  \n",
            "4   0.0   0.0   0.0   0.0                68.220319  \n",
            "\n",
            "[5 rows x 81 columns]\n",
            "\n",
            "\n",
            "              Player   2021/22   2022/23   2023/24   2024/25   2025/26  \\\n",
            "0      Stephen Curry  45780966  48070014  51915615  55761217  59606817   \n",
            "1          John Wall  44310840  47366760         0         0         0   \n",
            "2       James Harden  44310840  47366760         0         0         0   \n",
            "3  Russell Westbrook  44211146  47063478         0         0         0   \n",
            "4       Kevin Durant  42018900  44119845  47649433  51179020  54708608   \n",
            "\n",
            "   2026/27  \n",
            "0        0  \n",
            "1        0  \n",
            "2        0  \n",
            "3        0  \n",
            "4        0  \n"
          ]
        }
      ]
    },
    {
      "cell_type": "code",
      "source": [
        "# clean player logs\n",
        "top_scorer_df = nba_player_log[['game_id', 'game_date','H_A', 'Team_Abbrev','Opponent_Abbrev','player', 'pts','minutes']]\n",
        "print(top_scorer_df.head())\n",
        "\n",
        "print(top_scorer_df.info())\n",
        "print(\"Player log data: \")\n",
        "print(\"Shape before dropping duplicates and unneeded columns: \")\n",
        "print(nba_player_log.shape)\n",
        "\n",
        "top_scorer_df = top_scorer_df.drop_duplicates()\n",
        "print(top_scorer_df.info())\n",
        "\n",
        "\n",
        "print(\"Shape after dropping duplicates and unneeded columns: \")\n",
        "print(top_scorer_df.shape)\n",
        "\n",
        "\n",
        "# clean player salary data\n",
        "top_salary_df = player_salaries[['Player', '2021/22']]\n",
        "top_salary_df = top_salary_df.drop_duplicates()\n",
        "print(top_salary_df.info())\n",
        "print(top_salary_df.shape)\n",
        "\n"
      ],
      "metadata": {
        "colab": {
          "base_uri": "https://localhost:8080/"
        },
        "id": "jOVZaCBdC5ZE",
        "outputId": "002609e4-1aae-4a1b-9671-933783b3d5c6"
      },
      "execution_count": 6,
      "outputs": [
        {
          "output_type": "stream",
          "name": "stdout",
          "text": [
            "        game_id  game_date H_A Team_Abbrev Opponent_Abbrev             player  \\\n",
            "0  202204100BRK  4/10/2022   A         IND             BRK  Tyrese Haliburton   \n",
            "1  202204100BRK  4/10/2022   A         IND             BRK        Buddy Hield   \n",
            "2  202204100BRK  4/10/2022   A         IND             BRK     Oshae Brissett   \n",
            "3  202204100BRK  4/10/2022   A         IND             BRK     Isaiah Jackson   \n",
            "4  202204100BRK  4/10/2022   A         IND             BRK     T.J. McConnell   \n",
            "\n",
            "   pts    minutes  \n",
            "0   17  39.466667  \n",
            "1   21  35.883333  \n",
            "2   28  35.783333  \n",
            "3    7  32.016667  \n",
            "4   14  30.866667  \n",
            "<class 'pandas.core.frame.DataFrame'>\n",
            "RangeIndex: 31608 entries, 0 to 31607\n",
            "Data columns (total 8 columns):\n",
            " #   Column           Non-Null Count  Dtype  \n",
            "---  ------           --------------  -----  \n",
            " 0   game_id          31608 non-null  object \n",
            " 1   game_date        31608 non-null  object \n",
            " 2   H_A              31608 non-null  object \n",
            " 3   Team_Abbrev      31608 non-null  object \n",
            " 4   Opponent_Abbrev  31608 non-null  object \n",
            " 5   player           31608 non-null  object \n",
            " 6   pts              31608 non-null  int64  \n",
            " 7   minutes          31608 non-null  float64\n",
            "dtypes: float64(1), int64(1), object(6)\n",
            "memory usage: 1.9+ MB\n",
            "None\n",
            "Player log data: \n",
            "Shape before dropping duplicates and unneeded columns: \n",
            "(31608, 81)\n",
            "<class 'pandas.core.frame.DataFrame'>\n",
            "Index: 31282 entries, 0 to 31607\n",
            "Data columns (total 8 columns):\n",
            " #   Column           Non-Null Count  Dtype  \n",
            "---  ------           --------------  -----  \n",
            " 0   game_id          31282 non-null  object \n",
            " 1   game_date        31282 non-null  object \n",
            " 2   H_A              31282 non-null  object \n",
            " 3   Team_Abbrev      31282 non-null  object \n",
            " 4   Opponent_Abbrev  31282 non-null  object \n",
            " 5   player           31282 non-null  object \n",
            " 6   pts              31282 non-null  int64  \n",
            " 7   minutes          31282 non-null  float64\n",
            "dtypes: float64(1), int64(1), object(6)\n",
            "memory usage: 2.1+ MB\n",
            "None\n",
            "Shape after dropping duplicates and unneeded columns: \n",
            "(31282, 8)\n",
            "<class 'pandas.core.frame.DataFrame'>\n",
            "RangeIndex: 649 entries, 0 to 648\n",
            "Data columns (total 2 columns):\n",
            " #   Column   Non-Null Count  Dtype \n",
            "---  ------   --------------  ----- \n",
            " 0   Player   649 non-null    object\n",
            " 1   2021/22  649 non-null    int64 \n",
            "dtypes: int64(1), object(1)\n",
            "memory usage: 10.3+ KB\n",
            "None\n",
            "(649, 2)\n"
          ]
        }
      ]
    },
    {
      "cell_type": "code",
      "source": [
        "print(top_scorer_df.head())\n",
        "print(top_salary_df.head())"
      ],
      "metadata": {
        "colab": {
          "base_uri": "https://localhost:8080/"
        },
        "id": "8Xw6-HGXDo1_",
        "outputId": "15fdef8f-f424-4ae1-8cfc-6bc95740bbd9"
      },
      "execution_count": 7,
      "outputs": [
        {
          "output_type": "stream",
          "name": "stdout",
          "text": [
            "        game_id  game_date H_A Team_Abbrev Opponent_Abbrev             player  \\\n",
            "0  202204100BRK  4/10/2022   A         IND             BRK  Tyrese Haliburton   \n",
            "1  202204100BRK  4/10/2022   A         IND             BRK        Buddy Hield   \n",
            "2  202204100BRK  4/10/2022   A         IND             BRK     Oshae Brissett   \n",
            "3  202204100BRK  4/10/2022   A         IND             BRK     Isaiah Jackson   \n",
            "4  202204100BRK  4/10/2022   A         IND             BRK     T.J. McConnell   \n",
            "\n",
            "   pts    minutes  \n",
            "0   17  39.466667  \n",
            "1   21  35.883333  \n",
            "2   28  35.783333  \n",
            "3    7  32.016667  \n",
            "4   14  30.866667  \n",
            "              Player   2021/22\n",
            "0      Stephen Curry  45780966\n",
            "1          John Wall  44310840\n",
            "2       James Harden  44310840\n",
            "3  Russell Westbrook  44211146\n",
            "4       Kevin Durant  42018900\n"
          ]
        }
      ]
    },
    {
      "cell_type": "code",
      "source": [
        "# use pd.merge() to combine to two datasets, then clean the resulting data frame\n",
        "player_stats_salaries = pd.merge(top_scorer_df,top_salary_df,how='left',left_on='player',right_on='Player')\n",
        "print(player_stats_salaries.shape)\n",
        "print(player_stats_salaries.info())"
      ],
      "metadata": {
        "colab": {
          "base_uri": "https://localhost:8080/"
        },
        "id": "0-VnvkljD-Ox",
        "outputId": "dd310980-fe47-405c-c858-224e24d92949"
      },
      "execution_count": 23,
      "outputs": [
        {
          "output_type": "stream",
          "name": "stdout",
          "text": [
            "(31282, 10)\n",
            "<class 'pandas.core.frame.DataFrame'>\n",
            "RangeIndex: 31282 entries, 0 to 31281\n",
            "Data columns (total 10 columns):\n",
            " #   Column           Non-Null Count  Dtype  \n",
            "---  ------           --------------  -----  \n",
            " 0   game_id          31282 non-null  object \n",
            " 1   game_date        31282 non-null  object \n",
            " 2   H_A              31282 non-null  object \n",
            " 3   Team_Abbrev      31282 non-null  object \n",
            " 4   Opponent_Abbrev  31282 non-null  object \n",
            " 5   player           31282 non-null  object \n",
            " 6   pts              31282 non-null  int64  \n",
            " 7   minutes          31282 non-null  float64\n",
            " 8   Player           28218 non-null  object \n",
            " 9   2021/22          28218 non-null  float64\n",
            "dtypes: float64(2), int64(1), object(7)\n",
            "memory usage: 2.4+ MB\n",
            "None\n"
          ]
        }
      ]
    },
    {
      "source": [
        "# Assuming 'player_stats_salaries' is your merged DataFrame\n",
        "player_stats_salaries['salary_missing'] = player_stats_salaries['2021/22'].isnull()\n",
        "player_stats_salaries[['pts', 'minutes', 'salary_missing']].corr()"
      ],
      "cell_type": "code",
      "metadata": {
        "colab": {
          "base_uri": "https://localhost:8080/",
          "height": 144
        },
        "id": "kVrKUfcdtnef",
        "outputId": "06cc6b7f-3cd6-4037-83ad-2681efe21b1e"
      },
      "execution_count": 24,
      "outputs": [
        {
          "output_type": "execute_result",
          "data": {
            "text/plain": [
              "                     pts   minutes  salary_missing\n",
              "pts             1.000000  0.788507       -0.068808\n",
              "minutes         0.788507  1.000000       -0.050154\n",
              "salary_missing -0.068808 -0.050154        1.000000"
            ],
            "text/html": [
              "\n",
              "  <div id=\"df-69b5242a-f1b9-4290-8b67-9c05d2fb918a\" class=\"colab-df-container\">\n",
              "    <div>\n",
              "<style scoped>\n",
              "    .dataframe tbody tr th:only-of-type {\n",
              "        vertical-align: middle;\n",
              "    }\n",
              "\n",
              "    .dataframe tbody tr th {\n",
              "        vertical-align: top;\n",
              "    }\n",
              "\n",
              "    .dataframe thead th {\n",
              "        text-align: right;\n",
              "    }\n",
              "</style>\n",
              "<table border=\"1\" class=\"dataframe\">\n",
              "  <thead>\n",
              "    <tr style=\"text-align: right;\">\n",
              "      <th></th>\n",
              "      <th>pts</th>\n",
              "      <th>minutes</th>\n",
              "      <th>salary_missing</th>\n",
              "    </tr>\n",
              "  </thead>\n",
              "  <tbody>\n",
              "    <tr>\n",
              "      <th>pts</th>\n",
              "      <td>1.000000</td>\n",
              "      <td>0.788507</td>\n",
              "      <td>-0.068808</td>\n",
              "    </tr>\n",
              "    <tr>\n",
              "      <th>minutes</th>\n",
              "      <td>0.788507</td>\n",
              "      <td>1.000000</td>\n",
              "      <td>-0.050154</td>\n",
              "    </tr>\n",
              "    <tr>\n",
              "      <th>salary_missing</th>\n",
              "      <td>-0.068808</td>\n",
              "      <td>-0.050154</td>\n",
              "      <td>1.000000</td>\n",
              "    </tr>\n",
              "  </tbody>\n",
              "</table>\n",
              "</div>\n",
              "    <div class=\"colab-df-buttons\">\n",
              "\n",
              "  <div class=\"colab-df-container\">\n",
              "    <button class=\"colab-df-convert\" onclick=\"convertToInteractive('df-69b5242a-f1b9-4290-8b67-9c05d2fb918a')\"\n",
              "            title=\"Convert this dataframe to an interactive table.\"\n",
              "            style=\"display:none;\">\n",
              "\n",
              "  <svg xmlns=\"http://www.w3.org/2000/svg\" height=\"24px\" viewBox=\"0 -960 960 960\">\n",
              "    <path d=\"M120-120v-720h720v720H120Zm60-500h600v-160H180v160Zm220 220h160v-160H400v160Zm0 220h160v-160H400v160ZM180-400h160v-160H180v160Zm440 0h160v-160H620v160ZM180-180h160v-160H180v160Zm440 0h160v-160H620v160Z\"/>\n",
              "  </svg>\n",
              "    </button>\n",
              "\n",
              "  <style>\n",
              "    .colab-df-container {\n",
              "      display:flex;\n",
              "      gap: 12px;\n",
              "    }\n",
              "\n",
              "    .colab-df-convert {\n",
              "      background-color: #E8F0FE;\n",
              "      border: none;\n",
              "      border-radius: 50%;\n",
              "      cursor: pointer;\n",
              "      display: none;\n",
              "      fill: #1967D2;\n",
              "      height: 32px;\n",
              "      padding: 0 0 0 0;\n",
              "      width: 32px;\n",
              "    }\n",
              "\n",
              "    .colab-df-convert:hover {\n",
              "      background-color: #E2EBFA;\n",
              "      box-shadow: 0px 1px 2px rgba(60, 64, 67, 0.3), 0px 1px 3px 1px rgba(60, 64, 67, 0.15);\n",
              "      fill: #174EA6;\n",
              "    }\n",
              "\n",
              "    .colab-df-buttons div {\n",
              "      margin-bottom: 4px;\n",
              "    }\n",
              "\n",
              "    [theme=dark] .colab-df-convert {\n",
              "      background-color: #3B4455;\n",
              "      fill: #D2E3FC;\n",
              "    }\n",
              "\n",
              "    [theme=dark] .colab-df-convert:hover {\n",
              "      background-color: #434B5C;\n",
              "      box-shadow: 0px 1px 3px 1px rgba(0, 0, 0, 0.15);\n",
              "      filter: drop-shadow(0px 1px 2px rgba(0, 0, 0, 0.3));\n",
              "      fill: #FFFFFF;\n",
              "    }\n",
              "  </style>\n",
              "\n",
              "    <script>\n",
              "      const buttonEl =\n",
              "        document.querySelector('#df-69b5242a-f1b9-4290-8b67-9c05d2fb918a button.colab-df-convert');\n",
              "      buttonEl.style.display =\n",
              "        google.colab.kernel.accessAllowed ? 'block' : 'none';\n",
              "\n",
              "      async function convertToInteractive(key) {\n",
              "        const element = document.querySelector('#df-69b5242a-f1b9-4290-8b67-9c05d2fb918a');\n",
              "        const dataTable =\n",
              "          await google.colab.kernel.invokeFunction('convertToInteractive',\n",
              "                                                    [key], {});\n",
              "        if (!dataTable) return;\n",
              "\n",
              "        const docLinkHtml = 'Like what you see? Visit the ' +\n",
              "          '<a target=\"_blank\" href=https://colab.research.google.com/notebooks/data_table.ipynb>data table notebook</a>'\n",
              "          + ' to learn more about interactive tables.';\n",
              "        element.innerHTML = '';\n",
              "        dataTable['output_type'] = 'display_data';\n",
              "        await google.colab.output.renderOutput(dataTable, element);\n",
              "        const docLink = document.createElement('div');\n",
              "        docLink.innerHTML = docLinkHtml;\n",
              "        element.appendChild(docLink);\n",
              "      }\n",
              "    </script>\n",
              "  </div>\n",
              "\n",
              "\n",
              "<div id=\"df-f079912c-6a30-4107-920e-c5ab547a1815\">\n",
              "  <button class=\"colab-df-quickchart\" onclick=\"quickchart('df-f079912c-6a30-4107-920e-c5ab547a1815')\"\n",
              "            title=\"Suggest charts\"\n",
              "            style=\"display:none;\">\n",
              "\n",
              "<svg xmlns=\"http://www.w3.org/2000/svg\" height=\"24px\"viewBox=\"0 0 24 24\"\n",
              "     width=\"24px\">\n",
              "    <g>\n",
              "        <path d=\"M19 3H5c-1.1 0-2 .9-2 2v14c0 1.1.9 2 2 2h14c1.1 0 2-.9 2-2V5c0-1.1-.9-2-2-2zM9 17H7v-7h2v7zm4 0h-2V7h2v10zm4 0h-2v-4h2v4z\"/>\n",
              "    </g>\n",
              "</svg>\n",
              "  </button>\n",
              "\n",
              "<style>\n",
              "  .colab-df-quickchart {\n",
              "      --bg-color: #E8F0FE;\n",
              "      --fill-color: #1967D2;\n",
              "      --hover-bg-color: #E2EBFA;\n",
              "      --hover-fill-color: #174EA6;\n",
              "      --disabled-fill-color: #AAA;\n",
              "      --disabled-bg-color: #DDD;\n",
              "  }\n",
              "\n",
              "  [theme=dark] .colab-df-quickchart {\n",
              "      --bg-color: #3B4455;\n",
              "      --fill-color: #D2E3FC;\n",
              "      --hover-bg-color: #434B5C;\n",
              "      --hover-fill-color: #FFFFFF;\n",
              "      --disabled-bg-color: #3B4455;\n",
              "      --disabled-fill-color: #666;\n",
              "  }\n",
              "\n",
              "  .colab-df-quickchart {\n",
              "    background-color: var(--bg-color);\n",
              "    border: none;\n",
              "    border-radius: 50%;\n",
              "    cursor: pointer;\n",
              "    display: none;\n",
              "    fill: var(--fill-color);\n",
              "    height: 32px;\n",
              "    padding: 0;\n",
              "    width: 32px;\n",
              "  }\n",
              "\n",
              "  .colab-df-quickchart:hover {\n",
              "    background-color: var(--hover-bg-color);\n",
              "    box-shadow: 0 1px 2px rgba(60, 64, 67, 0.3), 0 1px 3px 1px rgba(60, 64, 67, 0.15);\n",
              "    fill: var(--button-hover-fill-color);\n",
              "  }\n",
              "\n",
              "  .colab-df-quickchart-complete:disabled,\n",
              "  .colab-df-quickchart-complete:disabled:hover {\n",
              "    background-color: var(--disabled-bg-color);\n",
              "    fill: var(--disabled-fill-color);\n",
              "    box-shadow: none;\n",
              "  }\n",
              "\n",
              "  .colab-df-spinner {\n",
              "    border: 2px solid var(--fill-color);\n",
              "    border-color: transparent;\n",
              "    border-bottom-color: var(--fill-color);\n",
              "    animation:\n",
              "      spin 1s steps(1) infinite;\n",
              "  }\n",
              "\n",
              "  @keyframes spin {\n",
              "    0% {\n",
              "      border-color: transparent;\n",
              "      border-bottom-color: var(--fill-color);\n",
              "      border-left-color: var(--fill-color);\n",
              "    }\n",
              "    20% {\n",
              "      border-color: transparent;\n",
              "      border-left-color: var(--fill-color);\n",
              "      border-top-color: var(--fill-color);\n",
              "    }\n",
              "    30% {\n",
              "      border-color: transparent;\n",
              "      border-left-color: var(--fill-color);\n",
              "      border-top-color: var(--fill-color);\n",
              "      border-right-color: var(--fill-color);\n",
              "    }\n",
              "    40% {\n",
              "      border-color: transparent;\n",
              "      border-right-color: var(--fill-color);\n",
              "      border-top-color: var(--fill-color);\n",
              "    }\n",
              "    60% {\n",
              "      border-color: transparent;\n",
              "      border-right-color: var(--fill-color);\n",
              "    }\n",
              "    80% {\n",
              "      border-color: transparent;\n",
              "      border-right-color: var(--fill-color);\n",
              "      border-bottom-color: var(--fill-color);\n",
              "    }\n",
              "    90% {\n",
              "      border-color: transparent;\n",
              "      border-bottom-color: var(--fill-color);\n",
              "    }\n",
              "  }\n",
              "</style>\n",
              "\n",
              "  <script>\n",
              "    async function quickchart(key) {\n",
              "      const quickchartButtonEl =\n",
              "        document.querySelector('#' + key + ' button');\n",
              "      quickchartButtonEl.disabled = true;  // To prevent multiple clicks.\n",
              "      quickchartButtonEl.classList.add('colab-df-spinner');\n",
              "      try {\n",
              "        const charts = await google.colab.kernel.invokeFunction(\n",
              "            'suggestCharts', [key], {});\n",
              "      } catch (error) {\n",
              "        console.error('Error during call to suggestCharts:', error);\n",
              "      }\n",
              "      quickchartButtonEl.classList.remove('colab-df-spinner');\n",
              "      quickchartButtonEl.classList.add('colab-df-quickchart-complete');\n",
              "    }\n",
              "    (() => {\n",
              "      let quickchartButtonEl =\n",
              "        document.querySelector('#df-f079912c-6a30-4107-920e-c5ab547a1815 button');\n",
              "      quickchartButtonEl.style.display =\n",
              "        google.colab.kernel.accessAllowed ? 'block' : 'none';\n",
              "    })();\n",
              "  </script>\n",
              "</div>\n",
              "\n",
              "    </div>\n",
              "  </div>\n"
            ],
            "application/vnd.google.colaboratory.intrinsic+json": {
              "type": "dataframe",
              "summary": "{\n  \"name\": \"player_stats_salaries[['pts', 'minutes', 'salary_missing']]\",\n  \"rows\": 3,\n  \"fields\": [\n    {\n      \"column\": \"pts\",\n      \"properties\": {\n        \"dtype\": \"number\",\n        \"std\": 0.5659901819277499,\n        \"min\": -0.06880828458433338,\n        \"max\": 1.0,\n        \"num_unique_values\": 3,\n        \"samples\": [\n          1.0,\n          0.7885065206143764,\n          -0.06880828458433338\n        ],\n        \"semantic_type\": \"\",\n        \"description\": \"\"\n      }\n    },\n    {\n      \"column\": \"minutes\",\n      \"properties\": {\n        \"dtype\": \"number\",\n        \"std\": 0.5554135043396957,\n        \"min\": -0.05015415365234103,\n        \"max\": 1.0,\n        \"num_unique_values\": 3,\n        \"samples\": [\n          0.7885065206143764,\n          1.0,\n          -0.05015415365234103\n        ],\n        \"semantic_type\": \"\",\n        \"description\": \"\"\n      }\n    },\n    {\n      \"column\": \"salary_missing\",\n      \"properties\": {\n        \"dtype\": \"number\",\n        \"std\": 0.611762872392863,\n        \"min\": -0.06880828458433338,\n        \"max\": 1.0,\n        \"num_unique_values\": 3,\n        \"samples\": [\n          -0.06880828458433338,\n          -0.05015415365234103,\n          1.0\n        ],\n        \"semantic_type\": \"\",\n        \"description\": \"\"\n      }\n    }\n  ]\n}"
            }
          },
          "metadata": {},
          "execution_count": 24
        }
      ]
    },
    {
      "cell_type": "code",
      "source": [
        "# drop null rows with null values\n",
        "print(player_stats_salaries.head(100))\n",
        "player_stats_salaries = player_stats_salaries.dropna(how='any')"
      ],
      "metadata": {
        "id": "V4KXQhegEptT",
        "colab": {
          "base_uri": "https://localhost:8080/"
        },
        "outputId": "4690ee1e-5efd-4ec2-e2da-c62efa319e3a"
      },
      "execution_count": 9,
      "outputs": [
        {
          "output_type": "stream",
          "name": "stdout",
          "text": [
            "         game_id  game_date H_A Team_Abbrev Opponent_Abbrev  \\\n",
            "0   202204100BRK  4/10/2022   A         IND             BRK   \n",
            "1   202204100BRK  4/10/2022   A         IND             BRK   \n",
            "2   202204100BRK  4/10/2022   A         IND             BRK   \n",
            "3   202204100BRK  4/10/2022   A         IND             BRK   \n",
            "4   202204100BRK  4/10/2022   A         IND             BRK   \n",
            "5   202204100BRK  4/10/2022   A         IND             BRK   \n",
            "6   202204100BRK  4/10/2022   A         IND             BRK   \n",
            "7   202204100BRK  4/10/2022   A         IND             BRK   \n",
            "8   202204100BRK  4/10/2022   A         IND             BRK   \n",
            "9   202204100BRK  4/10/2022   A         IND             BRK   \n",
            "10  202204100BRK  4/10/2022   A         IND             BRK   \n",
            "11  202204100BRK  4/10/2022   A         IND             BRK   \n",
            "12  202204100BRK  4/10/2022   H         BRK             IND   \n",
            "13  202204100BRK  4/10/2022   H         BRK             IND   \n",
            "14  202204100BRK  4/10/2022   H         BRK             IND   \n",
            "15  202204100BRK  4/10/2022   H         BRK             IND   \n",
            "16  202204100BRK  4/10/2022   H         BRK             IND   \n",
            "17  202204100BRK  4/10/2022   H         BRK             IND   \n",
            "18  202204100BRK  4/10/2022   H         BRK             IND   \n",
            "19  202204100BRK  4/10/2022   H         BRK             IND   \n",
            "20  202204100BRK  4/10/2022   H         BRK             IND   \n",
            "21  202204100BRK  4/10/2022   H         BRK             IND   \n",
            "22  202204100BRK  4/10/2022   H         BRK             IND   \n",
            "23  202204100BRK  4/10/2022   H         BRK             IND   \n",
            "24  202204100BRK  4/10/2022   H         BRK             IND   \n",
            "25  202204100CHO  4/10/2022   A         WAS             CHO   \n",
            "26  202204100CHO  4/10/2022   A         WAS             CHO   \n",
            "27  202204100CHO  4/10/2022   A         WAS             CHO   \n",
            "28  202204100CHO  4/10/2022   A         WAS             CHO   \n",
            "29  202204100CHO  4/10/2022   A         WAS             CHO   \n",
            "30  202204100CHO  4/10/2022   A         WAS             CHO   \n",
            "31  202204100CHO  4/10/2022   A         WAS             CHO   \n",
            "32  202204100CHO  4/10/2022   A         WAS             CHO   \n",
            "33  202204100CHO  4/10/2022   A         WAS             CHO   \n",
            "34  202204100CHO  4/10/2022   A         WAS             CHO   \n",
            "35  202204100CHO  4/10/2022   A         WAS             CHO   \n",
            "36  202204100CHO  4/10/2022   A         WAS             CHO   \n",
            "37  202204100CHO  4/10/2022   H         CHO             WAS   \n",
            "38  202204100CHO  4/10/2022   H         CHO             WAS   \n",
            "39  202204100CHO  4/10/2022   H         CHO             WAS   \n",
            "40  202204100CHO  4/10/2022   H         CHO             WAS   \n",
            "41  202204100CHO  4/10/2022   H         CHO             WAS   \n",
            "42  202204100CHO  4/10/2022   H         CHO             WAS   \n",
            "43  202204100CHO  4/10/2022   H         CHO             WAS   \n",
            "44  202204100CHO  4/10/2022   H         CHO             WAS   \n",
            "45  202204100CHO  4/10/2022   H         CHO             WAS   \n",
            "46  202204100CHO  4/10/2022   H         CHO             WAS   \n",
            "47  202204100CHO  4/10/2022   H         CHO             WAS   \n",
            "48  202204100CHO  4/10/2022   H         CHO             WAS   \n",
            "49  202204100CHO  4/10/2022   H         CHO             WAS   \n",
            "50  202204100CHO  4/10/2022   H         CHO             WAS   \n",
            "51  202204100CHO  4/10/2022   H         CHO             WAS   \n",
            "52  202204100CLE  4/10/2022   A         MIL             CLE   \n",
            "53  202204100CLE  4/10/2022   A         MIL             CLE   \n",
            "54  202204100CLE  4/10/2022   A         MIL             CLE   \n",
            "55  202204100CLE  4/10/2022   A         MIL             CLE   \n",
            "56  202204100CLE  4/10/2022   A         MIL             CLE   \n",
            "57  202204100CLE  4/10/2022   A         MIL             CLE   \n",
            "58  202204100CLE  4/10/2022   A         MIL             CLE   \n",
            "59  202204100CLE  4/10/2022   A         MIL             CLE   \n",
            "60  202204100CLE  4/10/2022   A         MIL             CLE   \n",
            "61  202204100CLE  4/10/2022   A         MIL             CLE   \n",
            "62  202204100CLE  4/10/2022   A         MIL             CLE   \n",
            "63  202204100CLE  4/10/2022   H         CLE             MIL   \n",
            "64  202204100CLE  4/10/2022   H         CLE             MIL   \n",
            "65  202204100CLE  4/10/2022   H         CLE             MIL   \n",
            "66  202204100CLE  4/10/2022   H         CLE             MIL   \n",
            "67  202204100CLE  4/10/2022   H         CLE             MIL   \n",
            "68  202204100CLE  4/10/2022   H         CLE             MIL   \n",
            "69  202204100CLE  4/10/2022   H         CLE             MIL   \n",
            "70  202204100CLE  4/10/2022   H         CLE             MIL   \n",
            "71  202204100CLE  4/10/2022   H         CLE             MIL   \n",
            "72  202204100CLE  4/10/2022   H         CLE             MIL   \n",
            "73  202204100CLE  4/10/2022   H         CLE             MIL   \n",
            "74  202204100CLE  4/10/2022   H         CLE             MIL   \n",
            "75  202204100CLE  4/10/2022   H         CLE             MIL   \n",
            "76  202204100CLE  4/10/2022   H         CLE             MIL   \n",
            "77  202204100DAL  4/10/2022   A         SAS             DAL   \n",
            "78  202204100DAL  4/10/2022   A         SAS             DAL   \n",
            "79  202204100DAL  4/10/2022   A         SAS             DAL   \n",
            "80  202204100DAL  4/10/2022   A         SAS             DAL   \n",
            "81  202204100DAL  4/10/2022   A         SAS             DAL   \n",
            "82  202204100DAL  4/10/2022   A         SAS             DAL   \n",
            "83  202204100DAL  4/10/2022   A         SAS             DAL   \n",
            "84  202204100DAL  4/10/2022   A         SAS             DAL   \n",
            "85  202204100DAL  4/10/2022   A         SAS             DAL   \n",
            "86  202204100DAL  4/10/2022   A         SAS             DAL   \n",
            "87  202204100DAL  4/10/2022   A         SAS             DAL   \n",
            "88  202204100DAL  4/10/2022   A         SAS             DAL   \n",
            "89  202204100DAL  4/10/2022   A         SAS             DAL   \n",
            "90  202204100DAL  4/10/2022   H         DAL             SAS   \n",
            "91  202204100DAL  4/10/2022   H         DAL             SAS   \n",
            "92  202204100DAL  4/10/2022   H         DAL             SAS   \n",
            "93  202204100DAL  4/10/2022   H         DAL             SAS   \n",
            "94  202204100DAL  4/10/2022   H         DAL             SAS   \n",
            "95  202204100DAL  4/10/2022   H         DAL             SAS   \n",
            "96  202204100DAL  4/10/2022   H         DAL             SAS   \n",
            "97  202204100DAL  4/10/2022   H         DAL             SAS   \n",
            "98  202204100DAL  4/10/2022   H         DAL             SAS   \n",
            "99  202204100DAL  4/10/2022   H         DAL             SAS   \n",
            "\n",
            "                    player  pts    minutes                  Player     2021/22  \n",
            "0        Tyrese Haliburton   17  39.466667       Tyrese Haliburton   4023600.0  \n",
            "1              Buddy Hield   21  35.883333             Buddy Hield  23073234.0  \n",
            "2           Oshae Brissett   28  35.783333          Oshae Brissett   1701593.0  \n",
            "3           Isaiah Jackson    7  32.016667          Isaiah Jackson   2451240.0  \n",
            "4           T.J. McConnell   14  30.866667                     NaN         NaN  \n",
            "5             Terry Taylor   10  23.616667            Terry Taylor    342984.0  \n",
            "6     Duane Washington Jr.   18  18.700000                     NaN         NaN  \n",
            "7         Lance Stephenson   10  17.250000        Lance Stephenson   1614825.0  \n",
            "8                Gabe York    1   6.416667                     NaN         NaN  \n",
            "9             Goga Bitadze    0   0.000000            Goga Bitadze   3098400.0  \n",
            "10         Malcolm Brogdon    0   0.000000         Malcolm Brogdon  21700000.0  \n",
            "11             Jalen Smith    0   0.000000             Jalen Smith   4458000.0  \n",
            "12            Kevin Durant   20  40.683333            Kevin Durant  42018900.0  \n",
            "13            Kyrie Irving   35  39.866667            Kyrie Irving  35053700.0  \n",
            "14         Kessler Edwards   10  39.283333         Kessler Edwards    462629.0  \n",
            "15             Bruce Brown   21  37.783333             Bruce Brown   4736102.0  \n",
            "16          Andre Drummond   20  19.866667          Andre Drummond   2401537.0  \n",
            "17             Patty Mills    8  30.383333                     NaN         NaN  \n",
            "18             Nic Claxton   14  23.366667                     NaN         NaN  \n",
            "19              Cam Thomas    6   8.766667              Cam Thomas   2036280.0  \n",
            "20           Blake Griffin    0   0.000000           Blake Griffin  32405817.0  \n",
            "21              Seth Curry    0   0.000000              Seth Curry   8207518.0  \n",
            "22          David Duke Jr.    0   0.000000                     NaN         NaN  \n",
            "23          Day'Ron Sharpe    0   0.000000          Day'Ron Sharpe   2009160.0  \n",
            "24       LaMarcus Aldridge    0   0.000000       LaMarcus Aldridge   2641691.0  \n",
            "25           Rui Hachimura   21  32.333333           Rui Hachimura   4916160.0  \n",
            "26             Deni Avdija   12  31.133333             Deni Avdija   4692840.0  \n",
            "27          Daniel Gafford   13  27.966667          Daniel Gafford   1782621.0  \n",
            "28           Corey Kispert   20  25.616667           Corey Kispert   3383640.0  \n",
            "29        Tomas Satoransky    5  20.266667        Tomas Satoransky  10000000.0  \n",
            "30               Raul Neto    9  22.150000               Raul Neto   2089448.0  \n",
            "31            Anthony Gill    9  19.200000            Anthony Gill   1517981.0  \n",
            "32        Vernon Carey Jr.   11  18.583333                     NaN         NaN  \n",
            "33               Ish Smith    8  17.383333                     NaN         NaN  \n",
            "34             Isaiah Todd    0  17.300000             Isaiah Todd   1500000.0  \n",
            "35          Jordan Schakel    0   4.033333          Jordan Schakel     53176.0  \n",
            "36         Cassius Winston    0   4.033333         Cassius Winston    462629.0  \n",
            "37            Terry Rozier   25  31.616667            Terry Rozier  17905263.0  \n",
            "38             LaMelo Ball   24  28.516667             LaMelo Ball   8231760.0  \n",
            "39           Miles Bridges    9  27.816667           Miles Bridges   5421493.0  \n",
            "40         P.J. Washington    9  24.550000                     NaN         NaN  \n",
            "41           Mason Plumlee    8  21.133333           Mason Plumlee   9248333.0  \n",
            "42             Cody Martin    5  24.050000             Cody Martin   1782621.0  \n",
            "43        Montrezl Harrell    8  22.450000        Montrezl Harrell   9720900.0  \n",
            "44         Jalen McDaniels   14  20.600000         Jalen McDaniels   1782621.0  \n",
            "45         Kelly Oubre Jr.    6  16.416667                     NaN         NaN  \n",
            "46           Isaiah Thomas   14  12.516667           Isaiah Thomas    910926.0  \n",
            "47         James Bouknight    2   2.583333         James Bouknight   4154400.0  \n",
            "48               Kai Jones    0   2.583333               Kai Jones   2770560.0  \n",
            "49        Arnoldas Kulboka    0   2.583333        Arnoldas Kulboka    462629.0  \n",
            "50                 JT Thor    0   2.583333                 JT Thor   1250000.0  \n",
            "51           Nick Richards    0   0.000000           Nick Richards   1517981.0  \n",
            "52            Jordan Nwora   24  44.166667            Jordan Nwora   1517981.0  \n",
            "53   Sandro Mamukelashvili   28  42.583333   Sandro Mamukelashvili    462629.0  \n",
            "54  Thanasis Antetokounmpo   27  40.566667  Thanasis Antetokounmpo   1729217.0  \n",
            "55            Jevon Carter    3  33.383333            Jevon Carter   4107149.0  \n",
            "56            Jrue Holiday    0   0.133333            Jrue Holiday  32431333.0  \n",
            "57       Lindell Wigginton   18  40.016667       Lindell Wigginton    233973.0  \n",
            "58           Rayjon Tucker   15  39.150000           Rayjon Tucker    191860.0  \n",
            "59            Bobby Portis    0   0.000000            Bobby Portis   4347600.0  \n",
            "60         Wesley Matthews    0   0.000000         Wesley Matthews   1958495.0  \n",
            "61         Pat Connaughton    0   0.000000         Pat Connaughton   5333334.0  \n",
            "62         Khris Middleton    0   0.000000         Khris Middleton  35500000.0  \n",
            "63            Caris LeVert    6  28.983333            Caris LeVert  17500000.0  \n",
            "64          Darius Garland   11  23.166667          Darius Garland   7040880.0  \n",
            "65             Evan Mobley   18  22.650000             Evan Mobley   8075160.0  \n",
            "66         Lauri Markkanen   23  20.650000         Lauri Markkanen  15690909.0  \n",
            "67             Isaac Okoro    4  17.933333             Isaac Okoro   6720720.0  \n",
            "68              Cedi Osman   15  27.400000              Cedi Osman   8133334.0  \n",
            "69             Rajon Rondo    6  24.583333             Rajon Rondo   7500000.0  \n",
            "70           Lamar Stevens    8  20.416667           Lamar Stevens   1517981.0  \n",
            "71           Dylan Windler    2  18.933333           Dylan Windler   2239200.0  \n",
            "72              Kevin Love   32  14.733333              Kevin Love  31258256.0  \n",
            "73             Moses Brown    8   9.433333             Moses Brown   1893453.0  \n",
            "74         Brandon Goodwin    0   7.950000         Brandon Goodwin    343988.0  \n",
            "75         RJ Nembhard Jr.    0   3.166667                     NaN         NaN  \n",
            "76                Ed Davis    0   0.000000                Ed Davis   2641691.0  \n",
            "77          Keldon Johnson   24  33.500000          Keldon Johnson   2145720.0  \n",
            "78         Dejounte Murray   17  31.833333         Dejounte Murray  15428880.0  \n",
            "79           Devin Vassell   15  31.500000           Devin Vassell   4235160.0  \n",
            "80            Jakob Poeltl   12  28.666667            Jakob Poeltl   8750000.0  \n",
            "81            Joshua Primo    4  18.633333                     NaN         NaN  \n",
            "82         Josh Richardson   18  28.183333         Josh Richardson  11615328.0  \n",
            "83               Tre Jones   12  20.850000               Tre Jones   1517981.0  \n",
            "84            Zach Collins    8  15.166667            Zach Collins   7000000.0  \n",
            "85        Keita Bates-Diop    8  13.966667        Keita Bates-Diop   1729217.0  \n",
            "86            Joe Wieskamp    0   8.783333            Joe Wieskamp    563663.0  \n",
            "87            Jock Landale    2   4.700000            Jock Landale    925258.0  \n",
            "88          Devontae Cacok    0   4.216667          Devontae Cacok    726128.0  \n",
            "89          Romeo Langford    0   0.000000          Romeo Langford   3804360.0  \n",
            "90             Luka Doncic   26  28.750000             Luka Doncic  10174391.0  \n",
            "91     Dorian Finney-Smith   16  27.250000     Dorian Finney-Smith   4000000.0  \n",
            "92          Reggie Bullock    4  26.616667          Reggie Bullock   9536000.0  \n",
            "93           Dwight Powell   12  25.083333           Dwight Powell  11080125.0  \n",
            "94           Jalen Brunson   18  24.683333           Jalen Brunson   1802057.0  \n",
            "95         Marquese Chriss    6  21.183333         Marquese Chriss   1292900.0  \n",
            "96       Spencer Dinwiddie    8  17.883333       Spencer Dinwiddie  17142857.0  \n",
            "97              Josh Green    7  17.416667              Josh Green   2957520.0  \n",
            "98             Theo Pinson   16  13.033333             Theo Pinson    440710.0  \n",
            "99           Davis Bertans    8  12.950000           Davis Bertans  16000000.0  \n"
          ]
        }
      ]
    },
    {
      "cell_type": "code",
      "source": [
        "print(player_stats_salaries.info())\n",
        "print(player_stats_salaries.shape)\n",
        "print(player_stats_salaries.head())"
      ],
      "metadata": {
        "colab": {
          "base_uri": "https://localhost:8080/"
        },
        "id": "UuuS66I6Et9d",
        "outputId": "418dafd7-d2b0-40dd-b44b-87deaaac65ea"
      },
      "execution_count": 10,
      "outputs": [
        {
          "output_type": "stream",
          "name": "stdout",
          "text": [
            "<class 'pandas.core.frame.DataFrame'>\n",
            "Index: 28218 entries, 0 to 31281\n",
            "Data columns (total 10 columns):\n",
            " #   Column           Non-Null Count  Dtype  \n",
            "---  ------           --------------  -----  \n",
            " 0   game_id          28218 non-null  object \n",
            " 1   game_date        28218 non-null  object \n",
            " 2   H_A              28218 non-null  object \n",
            " 3   Team_Abbrev      28218 non-null  object \n",
            " 4   Opponent_Abbrev  28218 non-null  object \n",
            " 5   player           28218 non-null  object \n",
            " 6   pts              28218 non-null  int64  \n",
            " 7   minutes          28218 non-null  float64\n",
            " 8   Player           28218 non-null  object \n",
            " 9   2021/22          28218 non-null  float64\n",
            "dtypes: float64(2), int64(1), object(7)\n",
            "memory usage: 2.4+ MB\n",
            "None\n",
            "(28218, 10)\n",
            "        game_id  game_date H_A Team_Abbrev Opponent_Abbrev             player  \\\n",
            "0  202204100BRK  4/10/2022   A         IND             BRK  Tyrese Haliburton   \n",
            "1  202204100BRK  4/10/2022   A         IND             BRK        Buddy Hield   \n",
            "2  202204100BRK  4/10/2022   A         IND             BRK     Oshae Brissett   \n",
            "3  202204100BRK  4/10/2022   A         IND             BRK     Isaiah Jackson   \n",
            "5  202204100BRK  4/10/2022   A         IND             BRK       Terry Taylor   \n",
            "\n",
            "   pts    minutes             Player     2021/22  \n",
            "0   17  39.466667  Tyrese Haliburton   4023600.0  \n",
            "1   21  35.883333        Buddy Hield  23073234.0  \n",
            "2   28  35.783333     Oshae Brissett   1701593.0  \n",
            "3    7  32.016667     Isaiah Jackson   2451240.0  \n",
            "5   10  23.616667       Terry Taylor    342984.0  \n"
          ]
        }
      ]
    },
    {
      "cell_type": "code",
      "source": [
        "player_stats_salaries = player_stats_salaries.rename(columns={\"2021/22\":\"Salary\", \"H_A\":\"Home_Away\"})"
      ],
      "metadata": {
        "id": "LWi28gIyFC2T"
      },
      "execution_count": 11,
      "outputs": []
    },
    {
      "cell_type": "code",
      "source": [
        "print(player_stats_salaries.head())"
      ],
      "metadata": {
        "colab": {
          "base_uri": "https://localhost:8080/"
        },
        "id": "CuIi-1ENFHgj",
        "outputId": "56d530c2-3efc-4991-f370-9ddc23177e01"
      },
      "execution_count": 12,
      "outputs": [
        {
          "output_type": "stream",
          "name": "stdout",
          "text": [
            "        game_id  game_date Home_Away Team_Abbrev Opponent_Abbrev  \\\n",
            "0  202204100BRK  4/10/2022         A         IND             BRK   \n",
            "1  202204100BRK  4/10/2022         A         IND             BRK   \n",
            "2  202204100BRK  4/10/2022         A         IND             BRK   \n",
            "3  202204100BRK  4/10/2022         A         IND             BRK   \n",
            "5  202204100BRK  4/10/2022         A         IND             BRK   \n",
            "\n",
            "              player  pts    minutes             Player      Salary  \n",
            "0  Tyrese Haliburton   17  39.466667  Tyrese Haliburton   4023600.0  \n",
            "1        Buddy Hield   21  35.883333        Buddy Hield  23073234.0  \n",
            "2     Oshae Brissett   28  35.783333     Oshae Brissett   1701593.0  \n",
            "3     Isaiah Jackson    7  32.016667     Isaiah Jackson   2451240.0  \n",
            "5       Terry Taylor   10  23.616667       Terry Taylor    342984.0  \n"
          ]
        }
      ]
    },
    {
      "cell_type": "code",
      "source": [
        "print(player_stats_salaries.shape)"
      ],
      "metadata": {
        "id": "PQserXkhFZBZ",
        "outputId": "e867e958-da5b-49ea-d332-72f75777436f",
        "colab": {
          "base_uri": "https://localhost:8080/"
        }
      },
      "execution_count": 13,
      "outputs": [
        {
          "output_type": "stream",
          "name": "stdout",
          "text": [
            "(28218, 10)\n"
          ]
        }
      ]
    },
    {
      "cell_type": "code",
      "source": [
        "\n",
        "# Histogram prep - need total points grouped by game_id\n",
        "print(player_stats_salaries.head())\n",
        "print('\\n')\n",
        "# store view in df named 'points_by_game_dist'\n",
        "points_by_game_dist = player_stats_salaries.groupby(by=['game_id'], as_index=False).agg({'pts':'sum'})\n",
        "print(points_by_game_dist.head())\n"
      ],
      "metadata": {
        "id": "Ve8Dkg-4FbLi",
        "colab": {
          "base_uri": "https://localhost:8080/"
        },
        "outputId": "43e9797f-ff61-4146-cfbc-5fa8c5a8ebbf"
      },
      "execution_count": 14,
      "outputs": [
        {
          "output_type": "stream",
          "name": "stdout",
          "text": [
            "        game_id  game_date Home_Away Team_Abbrev Opponent_Abbrev  \\\n",
            "0  202204100BRK  4/10/2022         A         IND             BRK   \n",
            "1  202204100BRK  4/10/2022         A         IND             BRK   \n",
            "2  202204100BRK  4/10/2022         A         IND             BRK   \n",
            "3  202204100BRK  4/10/2022         A         IND             BRK   \n",
            "5  202204100BRK  4/10/2022         A         IND             BRK   \n",
            "\n",
            "              player  pts    minutes             Player      Salary  \n",
            "0  Tyrese Haliburton   17  39.466667  Tyrese Haliburton   4023600.0  \n",
            "1        Buddy Hield   21  35.883333        Buddy Hield  23073234.0  \n",
            "2     Oshae Brissett   28  35.783333     Oshae Brissett   1701593.0  \n",
            "3     Isaiah Jackson    7  32.016667     Isaiah Jackson   2451240.0  \n",
            "5       Terry Taylor   10  23.616667       Terry Taylor    342984.0  \n",
            "\n",
            "\n",
            "        game_id  pts\n",
            "0  202110190LAL  230\n",
            "1  202110190MIL  198\n",
            "2  202110200CHO  206\n",
            "3  202110200DET  182\n",
            "4  202110200MEM  240\n"
          ]
        }
      ]
    },
    {
      "cell_type": "code",
      "source": [
        "# Histogram\n",
        "# sets size of figure\n",
        "fig, ax = plt.subplots(figsize=(10,8), dpi=100)\n",
        "\n",
        "\n",
        "# set title and axis labels\n",
        "plt.title(label='Distribution of Total Points Scored in a Game')\n",
        "plt.xlabel('Points Scored')\n",
        "plt.ylabel('Count of Games')\n",
        "# write code to create histogram here\n",
        "plt.hist(points_by_game_dist['pts'], bins=30, color='red', rwidth=0.9)\n",
        "\n",
        "\n",
        "\n"
      ],
      "metadata": {
        "colab": {
          "base_uri": "https://localhost:8080/",
          "height": 944
        },
        "id": "TxrdKpe8VRFR",
        "outputId": "f0bbde33-867b-44cd-bc4c-a9b1f1f50fd7"
      },
      "execution_count": 15,
      "outputs": [
        {
          "output_type": "execute_result",
          "data": {
            "text/plain": [
              "(array([  3.,   4.,   5.,   6.,  16.,  28.,  30.,  41.,  72.,  80.,  76.,\n",
              "        102., 100., 104.,  82., 105.,  86.,  67.,  64.,  54.,  35.,  24.,\n",
              "         19.,   9.,   8.,   5.,   2.,   1.,   1.,   1.]),\n",
              " array([137.        , 141.93333333, 146.86666667, 151.8       ,\n",
              "        156.73333333, 161.66666667, 166.6       , 171.53333333,\n",
              "        176.46666667, 181.4       , 186.33333333, 191.26666667,\n",
              "        196.2       , 201.13333333, 206.06666667, 211.        ,\n",
              "        215.93333333, 220.86666667, 225.8       , 230.73333333,\n",
              "        235.66666667, 240.6       , 245.53333333, 250.46666667,\n",
              "        255.4       , 260.33333333, 265.26666667, 270.2       ,\n",
              "        275.13333333, 280.06666667, 285.        ]),\n",
              " <BarContainer object of 30 artists>)"
            ]
          },
          "metadata": {},
          "execution_count": 15
        },
        {
          "output_type": "display_data",
          "data": {
            "text/plain": [
              "<Figure size 1000x800 with 1 Axes>"
            ],
            "image/png": "[encoded data removed]"
          },
          "metadata": {}
        }
      ]
    },
    {
      "cell_type": "code",
      "source": [
        "# bar chart/horizontal bar chart prep\n",
        "team_salary_breakdown = player_stats_salaries.groupby(by=['Player', 'Team_Abbrev'], as_index=False).agg({'Salary':'mean'})\n",
        "\n",
        "# total team salary breakdown\n",
        "total_team_salary = team_salary_breakdown.groupby(by=['Team_Abbrev'], as_index=False).agg({'Salary':'sum'})\n",
        "total_team_salary['Salary'] = total_team_salary['Salary'].apply(lambda x: x*.000001)\n",
        "total_team_salary = total_team_salary.sort_values(by=['Salary'], ascending=False)\n",
        "\n",
        "print(total_team_salary.head())"
      ],
      "metadata": {
        "colab": {
          "base_uri": "https://localhost:8080/"
        },
        "id": "LGxAGFHWWDCW",
        "outputId": "6fae9761-5a0e-475e-dd6d-de48f0cd5d22"
      },
      "execution_count": 16,
      "outputs": [
        {
          "output_type": "stream",
          "name": "stdout",
          "text": [
            "   Team_Abbrev      Salary\n",
            "2          BRK  223.581905\n",
            "22         PHI  205.724357\n",
            "29         WAS  180.507883\n",
            "13         LAL  179.637341\n",
            "24         POR  174.522078\n"
          ]
        }
      ]
    },
    {
      "cell_type": "code",
      "source": [
        "# Bar chart - break down of total salaries paid by team\n",
        "fig, ax = plt.subplots(figsize=(14,8), dpi=100)\n",
        "\n",
        "\n",
        "# set title, and axis labels\n",
        "plt.title(label='Total Payroll Costs by Team')\n",
        "plt.xlabel('Team')\n",
        "plt.ylabel('Salaries')\n",
        "plt.yticks\n",
        "\n",
        "\n",
        "# write code to create bar chart here\n",
        "plt.bar(x=total_team_salary['Team_Abbrev'], height=total_team_salary['Salary'], width = 0.9, color='red')\n",
        "plt.tight_layout()\n",
        "plt.show()\n"
      ],
      "metadata": {
        "colab": {
          "base_uri": "https://localhost:8080/",
          "height": 807
        },
        "id": "KfhHLJD-WijT",
        "outputId": "d62acb3d-b3f3-4ef7-a813-ca806a2c9b88"
      },
      "execution_count": 17,
      "outputs": [
        {
          "output_type": "display_data",
          "data": {
            "text/plain": [
              "<Figure size 1400x800 with 1 Axes>"
            ],
            "image/png": "[encoded data removed]"
          },
          "metadata": {}
        }
      ]
    },
    {
      "cell_type": "code",
      "source": [
        "plt.title(label='Total Payroll Costs by Team')\n",
        "plt.xlabel('Salaries')\n",
        "plt.ylabel('Teams')\n",
        "plt.barh(total_team_salary['Team_Abbrev'], height=0.9, width=total_team_salary['Salary'], color='red')\n"
      ],
      "metadata": {
        "colab": {
          "base_uri": "https://localhost:8080/",
          "height": 491
        },
        "id": "fWyEsluIXRaJ",
        "outputId": "c8357064-51d3-406c-e1d5-e615c71df329"
      },
      "execution_count": 18,
      "outputs": [
        {
          "output_type": "execute_result",
          "data": {
            "text/plain": [
              "<BarContainer object of 30 artists>"
            ]
          },
          "metadata": {},
          "execution_count": 18
        },
        {
          "output_type": "display_data",
          "data": {
            "text/plain": [
              "<Figure size 640x480 with 1 Axes>"
            ],
            "image/png": "[encoded data removed]"
          },
          "metadata": {}
        }
      ]
    },
    {
      "cell_type": "code",
      "source": [
        "# Pie Chart prep\n",
        "# player, team, salary breakdown\n",
        "team_salary_breakdown = player_stats_salaries.groupby(by=['Player', 'Team_Abbrev'], as_index=False).agg({'Salary':'mean'})\n",
        "print(team_salary_breakdown.head())\n",
        "team_salary_breakdown = team_salary_breakdown[team_salary_breakdown['Team_Abbrev'] == 'LAL'].sort_values(by='Salary', ascending=False)\n",
        "team_salary_breakdown['top_players'] = team_salary_breakdown['Player'].apply(lambda x:\n",
        "                                                                             'Russell Westbrook' if x=='Russell Westbrook' else\n",
        "                                                                         'LeBron James' if x=='LeBron James' else\n",
        "                                                                             'Anthony Davis' if x== 'Anthony Davis' else\n",
        "                                                                             'DeAndre Jordan' if x== 'DeAndre Jordan' else\n",
        "                                                                             'Talen Horton-Tucker' if x== 'Talen Horton-Tucker' else\n",
        "                                                                             'Rajon Rondo' if x== 'Rajon Rondo' else 'Other Players')\n",
        "LAL_top_salaries = team_salary_breakdown.groupby(by=['top_players'], as_index=False).agg({'Salary':'sum'}).sort_values(by='Salary', ascending=False)\n",
        "print(LAL_top_salaries)\n"
      ],
      "metadata": {
        "colab": {
          "base_uri": "https://localhost:8080/"
        },
        "id": "13u15XeJXzcv",
        "outputId": "3f7c4296-b3d3-4d98-b549-c94688ccc5d4"
      },
      "execution_count": 19,
      "outputs": [
        {
          "output_type": "stream",
          "name": "stdout",
          "text": [
            "          Player Team_Abbrev      Salary\n",
            "0   Aaron Gordon         DEN  16409091.0\n",
            "1    Aaron Henry         PHI    223338.0\n",
            "2  Aaron Holiday         PHO   3980551.0\n",
            "3  Aaron Holiday         WAS   3980551.0\n",
            "4  Aaron Nesmith         BOS   3631200.0\n",
            "           top_players      Salary\n",
            "5    Russell Westbrook  44211146.0\n",
            "2         LeBron James  41180544.0\n",
            "0        Anthony Davis  35361360.0\n",
            "3        Other Players  30774964.0\n",
            "1       DeAndre Jordan  11109327.0\n",
            "6  Talen Horton-Tucker   9500000.0\n",
            "4          Rajon Rondo   7500000.0\n"
          ]
        }
      ]
    },
    {
      "cell_type": "code",
      "source": [
        "# Pie Chart - Show  the Lakers players salary breakdown, who takes up the most of the salary budget?\n",
        "fig, ax = plt.subplots(figsize=(14,8), dpi=100)\n",
        "# set title\n",
        "plt.title(label='Lakers Salary Breakdown')\n",
        "# write code to create pie chart here\n",
        "plt.pie(LAL_top_salaries['Salary'],labels = LAL_top_salaries['top_players'], autopct = '%1.1f%%')\n",
        "\n",
        "plt.show()\n"
      ],
      "metadata": {
        "colab": {
          "base_uri": "https://localhost:8080/",
          "height": 675
        },
        "id": "lwRhAnYvYOHG",
        "outputId": "ff6777d8-6fcd-4ea2-dd16-47769a65ad9e"
      },
      "execution_count": 20,
      "outputs": [
        {
          "output_type": "display_data",
          "data": {
            "text/plain": [
              "<Figure size 1400x800 with 1 Axes>"
            ],
            "image/png": "[encoded data removed]"
          },
          "metadata": {}
        }
      ]
    }
  ]
}